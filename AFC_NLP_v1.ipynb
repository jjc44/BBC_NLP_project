{
 "cells": [
  {
   "cell_type": "code",
   "execution_count": null,
   "metadata": {},
   "outputs": [],
   "source": [
    "# download and extract the data.  Only need to do this once.\n",
    "import zipfile, urllib.request, shutil\n",
    "\n",
    "url = 'https://code.afcmade.com/afc-ddsd-applicants/summer-fy21/-/raw/master/NLP%20Project/bbc-fulltext.zip'\n",
    "file_name = 'bbc.zip'\n",
    "\n",
    "with urllib.request.urlopen(url) as response, open(file_name, 'wb') as out_file:\n",
    "    shutil.copyfileobj(response, out_file)\n",
    "    with zipfile.ZipFile(file_name) as zf:\n",
    "        zf.extractall()"
   ]
  },
  {
   "cell_type": "code",
   "execution_count": null,
   "metadata": {},
   "outputs": [],
   "source": [
    "# data is a folder for each topic and a bunch of text files in each folder\n",
    "# each text file is the title, followed by the subtitle, followed by the article text\n",
    "import os\n",
    "# I want to go into each folder, read each text file into a df and fill these fields: genre, title, subtitle, text\n",
    "# sourced from https://towardsdatascience.com/transforming-text-files-to-data-tables-with-python-553def411855\n",
    "\n",
    "# this will read each file\n",
    "def read_file(genre, file_name):\n",
    "    text = []\n",
    "    current_file = os.path.abspath(os.path.join('bbc', genre, file_name))\n",
    "    if os.path.exists(current_file):\n",
    "        open_file = open(current_file, 'r', encoding=\"latin-1\")\n",
    "        text = open_file.read().split('\\n')\n",
    "        text = list(filter(None, text))\n",
    "    return text\n",
    "\n",
    "# this will get the files from each genre folder\n",
    "def extract_genre_files(genre):\n",
    "    found = True\n",
    "    current_number = 1\n",
    "    titles = list()\n",
    "    subtitles = list()\n",
    "    texts = list()\n",
    "    token_counts = list()\n",
    "    while found:\n",
    "        file_name = \"{:03d}.txt\".format(current_number)\n",
    "        text_data = read_file(genre, file_name)\n",
    "        if len(text_data) != 0:\n",
    "            titles.append(text_data[0])\n",
    "            subtitles.append(text_data[1])\n",
    "            article_text = ' '.join(text_data[2:])\n",
    "            texts.append(article_text)\n",
    "            current_number += 1\n",
    "        else:\n",
    "            found = False\n",
    "\n",
    "    genres = [genre] * len(titles)\n",
    "    data = {'genre': genres, 'title': titles, 'subtitle': subtitles, 'text': texts}\n",
    "    data_frame = pd.DataFrame(data)\n",
    "    return data_frame\n"
   ]
  },
  {
   "cell_type": "code",
   "execution_count": null,
   "metadata": {},
   "outputs": [],
   "source": [
    "import pandas as pd\n",
    "\n",
    "# generate the df from the files in the separate folders\n",
    "def transform_texts_to_df(name, genre_list, delimiter = '\\t'):\n",
    "    article_df_list = list()\n",
    "    for genre in genre_list:\n",
    "        article_df_list.append(extract_genre_files(genre))\n",
    "    df = pd.concat(article_df_list)\n",
    "    df.to_csv(name, sep=delimiter)\n",
    "    return df"
   ]
  },
  {
   "cell_type": "code",
   "execution_count": null,
   "metadata": {},
   "outputs": [],
   "source": [
    "# generate the df\n",
    "if __name__ == \"__main__\":\n",
    "    genre_list = ['business', 'entertainment', 'politics', 'sport', 'tech']\n",
    "    df = transform_texts_to_df('bbc_articles.csv', genre_list)\n",
    "    print(df.head())"
   ]
  },
  {
   "cell_type": "code",
   "execution_count": null,
   "metadata": {},
   "outputs": [],
   "source": [
    "# write raw text to csv\n",
    "#df.to_csv('raw_df.csv', encoding='utf-8', index=False)"
   ]
  },
  {
   "cell_type": "markdown",
   "metadata": {},
   "source": [
    "### Preprocess, split into train, val test\n",
    "\n",
    "##### Preprocess the text data:\n",
    "- make lowercase\n",
    "- remove special characters\n",
    "- replace contractions\n",
    "- remove numbers\n",
    "- remove stopwords\n",
    "- assumed that mispellings are not a problem (published news articles)\n",
    "- cut each article down to n words (even lengths)\n",
    "\n",
    "##### Split into train, validation, and test sets\n",
    "- by label, separate into train, val and test sets to ensure even-classed data sets\n",
    "- write to csvs\n",
    "\n",
    "helper: https://towardsdatascience.com/lstm-text-classification-using-pytorch-2c6c657f8fc0"
   ]
  },
  {
   "cell_type": "code",
   "execution_count": null,
   "metadata": {},
   "outputs": [],
   "source": [
    "import pandas as pd\n",
    "df = pd.read_csv('raw_df.csv', encoding='utf-8')"
   ]
  },
  {
   "cell_type": "code",
   "execution_count": null,
   "metadata": {},
   "outputs": [],
   "source": [
    "# cut down to even lengths\n",
    "n_words = 200\n",
    "\n",
    "def trim(x):\n",
    "    x = x.split(maxsplit=n_words)\n",
    "    x = ' '.join(x[:n_words])\n",
    "    return x\n",
    "\n",
    "# Remove special characters\n",
    "import re\n",
    "\n",
    "def clean_text(x):\n",
    "    pattern = r'[^a-zA-z0-9\\s]'\n",
    "    text = re.sub(pattern, '', x)\n",
    "    return text\n",
    "\n",
    "# Replace contractions\n",
    "contraction_dict = {\"ain't\": \"is not\", \"aren't\": \"are not\",\"can't\": \"cannot\", \"'cause\": \"because\", \"could've\": \"could have\", \"couldn't\": \"could not\", \"didn't\": \"did not\",  \"doesn't\": \"does not\", \"don't\": \"do not\", \"hadn't\": \"had not\", \"hasn't\": \"has not\", \"haven't\": \"have not\", \"he'd\": \"he would\",\"he'll\": \"he will\", \"he's\": \"he is\", \"how'd\": \"how did\", \"how'd'y\": \"how do you\", \"how'll\": \"how will\", \"how's\": \"how is\",  \"I'd\": \"I would\", \"I'd've\": \"I would have\", \"I'll\": \"I will\", \"I'll've\": \"I will have\",\"I'm\": \"I am\", \"I've\": \"I have\", \"i'd\": \"i would\", \"i'd've\": \"i would have\", \"i'll\": \"i will\",  \"i'll've\": \"i will have\",\"i'm\": \"i am\", \"i've\": \"i have\", \"isn't\": \"is not\", \"it'd\": \"it would\", \"it'd've\": \"it would have\", \"it'll\": \"it will\", \"it'll've\": \"it will have\",\"it's\": \"it is\", \"let's\": \"let us\", \"ma'am\": \"madam\", \"mayn't\": \"may not\", \"might've\": \"might have\",\"mightn't\": \"might not\",\"mightn't've\": \"might not have\", \"must've\": \"must have\", \"mustn't\": \"must not\", \"mustn't've\": \"must not have\", \"needn't\": \"need not\", \"needn't've\": \"need not have\",\"o'clock\": \"of the clock\", \"oughtn't\": \"ought not\", \"oughtn't've\": \"ought not have\", \"shan't\": \"shall not\", \"sha'n't\": \"shall not\", \"shan't've\": \"shall not have\", \"she'd\": \"she would\", \"she'd've\": \"she would have\", \"she'll\": \"she will\", \"she'll've\": \"she will have\", \"she's\": \"she is\", \"should've\": \"should have\", \"shouldn't\": \"should not\", \"shouldn't've\": \"should not have\", \"so've\": \"so have\",\"so's\": \"so as\", \"this's\": \"this is\",\"that'd\": \"that would\", \"that'd've\": \"that would have\", \"that's\": \"that is\", \"there'd\": \"there would\", \"there'd've\": \"there would have\", \"there's\": \"there is\", \"here's\": \"here is\",\"they'd\": \"they would\", \"they'd've\": \"they would have\", \"they'll\": \"they will\", \"they'll've\": \"they will have\", \"they're\": \"they are\", \"they've\": \"they have\", \"to've\": \"to have\", \"wasn't\": \"was not\", \"we'd\": \"we would\", \"we'd've\": \"we would have\", \"we'll\": \"we will\", \"we'll've\": \"we will have\", \"we're\": \"we are\", \"we've\": \"we have\", \"weren't\": \"were not\", \"what'll\": \"what will\", \"what'll've\": \"what will have\", \"what're\": \"what are\",  \"what's\": \"what is\", \"what've\": \"what have\", \"when's\": \"when is\", \"when've\": \"when have\", \"where'd\": \"where did\", \"where's\": \"where is\", \"where've\": \"where have\", \"who'll\": \"who will\", \"who'll've\": \"who will have\", \"who's\": \"who is\", \"who've\": \"who have\", \"why's\": \"why is\", \"why've\": \"why have\", \"will've\": \"will have\", \"won't\": \"will not\", \"won't've\": \"will not have\", \"would've\": \"would have\", \"wouldn't\": \"would not\", \"wouldn't've\": \"would not have\", \"y'all\": \"you all\", \"y'all'd\": \"you all would\",\"y'all'd've\": \"you all would have\",\"y'all're\": \"you all are\",\"y'all've\": \"you all have\",\"you'd\": \"you would\", \"you'd've\": \"you would have\", \"you'll\": \"you will\", \"you'll've\": \"you will have\", \"you're\": \"you are\", \"you've\": \"you have\"}\n",
    "\n",
    "def _get_contractions(contraction_dict):\n",
    "    contraction_re = re.compile('(%s)' % '|'.join(contraction_dict.keys()))\n",
    "    return contraction_dict, contraction_re\n",
    "\n",
    "contractions, contractions_re = _get_contractions(contraction_dict)\n",
    "\n",
    "def replace_contractions(text):\n",
    "    def replace(match):\n",
    "        return contractions[match.group(0)]\n",
    "    return contractions_re.sub(replace, text)\n",
    "    \n",
    "# remove numbers except for single digits\n",
    "def clean_numbers(x):\n",
    "    if bool(re.search(r'\\d', x)):\n",
    "        x = re.sub('[0-9]{5,}', '#####', x)\n",
    "        x = re.sub('[0-9]{4}', '####', x)\n",
    "        x = re.sub('[0-9]{3}', '###', x)\n",
    "        x = re.sub('[0-9]{2}', '##', x)\n",
    "    return x\n",
    "\n",
    "# title\n",
    "titles = []\n",
    "for text in df['title']:\n",
    "    titles.append(clean_numbers(replace_contractions(clean_text(trim(text).lower()))))\n",
    "\n",
    "# subtitle\n",
    "subtitles = []\n",
    "for text in df['subtitle']:\n",
    "    subtitles.append(clean_numbers(replace_contractions(clean_text(trim(text).lower()))))  \n",
    "    \n",
    "# text\n",
    "texts = []\n",
    "for text in df['text']:\n",
    "    texts.append(clean_numbers(replace_contractions(clean_text(trim(text).lower()))))"
   ]
  },
  {
   "cell_type": "code",
   "execution_count": null,
   "metadata": {},
   "outputs": [],
   "source": [
    "# remove stopwords\n",
    "\n",
    "# had to install nltk and download stopwords on the remote linux machine:\n",
    "# conda install -c anaconda nltk\n",
    "# nltk.download('stopwords')\n",
    "\n",
    "from nltk.corpus import stopwords\n",
    "from joblib import Parallel, delayed\n",
    "import multiprocessing\n",
    "\n",
    "def remove_stp_wds(doc, stp_wds= stopwords.words('english')):\n",
    "    filtered_words = []\n",
    "    for word in doc.split():\n",
    "        if word.lower() not in stp_wds:\n",
    "            filtered_words.append(word.lower())\n",
    "        else:\n",
    "            next\n",
    "    return(' '.join(filtered_words)) \n",
    "\n",
    "num_cores = multiprocessing.cpu_count()\n",
    "prep_texts = Parallel(n_jobs=num_cores)(delayed(remove_stp_wds)(doc) for doc in texts)\n",
    "\n",
    "prep_titles = [remove_stp_wds(doc) for doc in titles]\n",
    "\n",
    "prep_subtitles = [remove_stp_wds(doc) for doc in subtitles]"
   ]
  },
  {
   "cell_type": "code",
   "execution_count": null,
   "metadata": {},
   "outputs": [],
   "source": [
    "# check first entry of subtitles\n",
    "prep_subtitles[0]"
   ]
  },
  {
   "cell_type": "code",
   "execution_count": null,
   "metadata": {},
   "outputs": [],
   "source": [
    "# check a preprocessed article\n",
    "prep_texts[0]"
   ]
  },
  {
   "cell_type": "code",
   "execution_count": null,
   "metadata": {},
   "outputs": [],
   "source": [
    "# concat title, subtitle, and text into titletext\n",
    "titletext = []\n",
    "for i in range(len(prep_texts)):\n",
    "    titletext.append(' '.join([prep_titles[i] , prep_subtitles[i] , prep_texts[i]]))"
   ]
  },
  {
   "cell_type": "code",
   "execution_count": null,
   "metadata": {},
   "outputs": [],
   "source": [
    "# check the first entry\n",
    "titletext[0]"
   ]
  },
  {
   "cell_type": "code",
   "execution_count": null,
   "metadata": {},
   "outputs": [],
   "source": [
    "# write back to the df, then split by labels\n",
    "df['x_text'] = prep_texts\n",
    "df['x_title'] = prep_titles\n",
    "df['x_subtitle'] = prep_subtitles\n",
    "df['titletext'] = titletext\n",
    "\n",
    "# write labels to integers\n",
    "label = []\n",
    "for genre in df['genre']:\n",
    "    if genre == 'business':\n",
    "       label.append(1)\n",
    "    elif genre == 'entertainment':\n",
    "        label.append(2)\n",
    "    elif genre == 'politics':\n",
    "        label.append(3)\n",
    "    elif genre == 'sport':\n",
    "        label.append(4)\n",
    "    elif genre == 'tech':\n",
    "        label.append(5)\n",
    "df['label'] = label\n",
    "\n",
    "        \n",
    "# Split according to label (business, entertainment, politics, sports, tech)\n",
    "df_business = df.loc[df['label'] == 1, :]\n",
    "df_entertainment = df.loc[df['label'] == 2, :]\n",
    "df_politics = df.loc[df['label'] == 3, :]\n",
    "df_sport = df.loc[df['label'] == 4, :]\n",
    "df_tech = df.loc[df['label'] == 5, :]"
   ]
  },
  {
   "cell_type": "markdown",
   "metadata": {},
   "source": [
    "### Ensure that classes are evenly split amoung the train, val, and test sets"
   ]
  },
  {
   "cell_type": "code",
   "execution_count": null,
   "metadata": {},
   "outputs": [],
   "source": [
    "from sklearn.model_selection import train_test_split\n",
    "train_test_ratio = 0.10\n",
    "#train_valid_ratio = 0.80\n",
    "\n",
    "# Train-test split\n",
    "df_bus_train, df_bus_test = train_test_split(df_business, train_size = train_test_ratio, random_state = 1)\n",
    "df_ent_train, df_ent_test = train_test_split(df_entertainment, train_size = train_test_ratio, random_state = 1)\n",
    "df_pol_train, df_pol_test = train_test_split(df_politics, train_size = train_test_ratio, random_state = 1)\n",
    "df_spo_train, df_spo_test = train_test_split(df_sport, train_size = train_test_ratio, random_state = 1)\n",
    "df_tec_train, df_tec_test = train_test_split(df_tech, train_size = train_test_ratio, random_state = 1)\n",
    "\n",
    "# Concatenate splits of different labels\n",
    "df_train = pd.concat([df_bus_train, df_ent_train, df_pol_train, df_spo_train, df_tec_train], ignore_index=True, sort=False)\n",
    "#df_valid = pd.concat([df_bus_val, df_ent_val, df_pol_val, df_spo_val, df_tec_val], ignore_index=True, sort=False)\n",
    "df_test = pd.concat([df_bus_test, df_ent_test, df_pol_test, df_spo_test, df_tec_test], ignore_index=True, sort=False)\n",
    "\n",
    "# reorder columms\n",
    "df_train = df_train.loc[:, ['label', 'titletext']]\n",
    "#df_valid = df_valid.loc[:, ['label', 'titletext']]\n",
    "df_test = df_test.loc[:, ['label', 'titletext']] \n",
    "\n",
    "# Write preprocessed data\n",
    "df_train.to_csv('train.csv', index=False)\n",
    "#df_valid.to_csv('valid.csv', index=False)\n",
    "df_test.to_csv('test.csv', index=False)"
   ]
  },
  {
   "cell_type": "markdown",
   "metadata": {},
   "source": [
    "## Model development\n",
    "\n",
    "### Start with processed data..."
   ]
  },
  {
   "cell_type": "code",
   "execution_count": 1,
   "metadata": {},
   "outputs": [],
   "source": [
    "import pandas as pd\n",
    "# Read in preprocessed data\n",
    "df_train=pd.read_csv('train.csv')\n",
    "#df_valid=pd.read_csv('valid.csv')\n",
    "df_test=pd.read_csv('test.csv')"
   ]
  },
  {
   "cell_type": "code",
   "execution_count": 2,
   "metadata": {},
   "outputs": [
    {
     "data": {
      "text/plain": [
       "Index(['label', 'titletext'], dtype='object')"
      ]
     },
     "execution_count": 2,
     "metadata": {},
     "output_type": "execute_result"
    }
   ],
   "source": [
    "set(df_train.label)\n",
    "df_train.columns"
   ]
  },
  {
   "cell_type": "code",
   "execution_count": 3,
   "metadata": {},
   "outputs": [],
   "source": [
    "# prep data for pytorch implementation\n",
    "import torch, torchtext\n",
    "import logging\n",
    "import io\n",
    "from torchtext.utils import download_from_url, extract_archive, unicode_csv_reader\n",
    "from torchtext.data.utils import ngrams_iterator\n",
    "from torchtext.data.utils import get_tokenizer\n",
    "from torchtext.vocab import build_vocab_from_iterator\n",
    "from torchtext.vocab import Vocab\n",
    "from tqdm import tqdm\n",
    "\n",
    "# dug into the docs to see how torchtext built-in datasets are loaded.\n",
    "# these are subsets of the PyTorch Datasets modules\n",
    "def _csv_iterator(data_path, ngrams, yield_cls=False):\n",
    "    tokenizer = get_tokenizer(\"basic_english\")\n",
    "    with io.open(data_path, encoding=\"utf8\") as f:\n",
    "        next(f)\n",
    "        reader = unicode_csv_reader(f)\n",
    "        for row in reader:\n",
    "            tokens = ' '.join(row[1:])\n",
    "            tokens = tokenizer(tokens)\n",
    "            if yield_cls:\n",
    "                yield int(row[0]) - 1, ngrams_iterator(tokens, ngrams)\n",
    "            else:\n",
    "                yield ngrams_iterator(tokens, ngrams)\n",
    "\n",
    "def _create_data_from_iterator(vocab, iterator, include_unk):\n",
    "    data = []\n",
    "    labels = []\n",
    "    with tqdm(unit_scale=0, unit='lines') as t:\n",
    "        for cls, tokens in iterator:\n",
    "            if include_unk:\n",
    "                tokens = torch.tensor([vocab[token] for token in tokens])\n",
    "            else:\n",
    "                token_ids = list(filter(lambda x: x is not Vocab.UNK, [vocab[token]\n",
    "                                        for token in tokens]))\n",
    "                tokens = torch.tensor(token_ids)\n",
    "            if len(tokens) == 0:\n",
    "                logging.info('Row contains no tokens.')\n",
    "            data.append((cls, tokens))\n",
    "            labels.append(cls)\n",
    "            t.update(1)\n",
    "    return data, set(labels)                \n",
    "\n"
   ]
  },
  {
   "cell_type": "code",
   "execution_count": 4,
   "metadata": {},
   "outputs": [
    {
     "name": "stderr",
     "output_type": "stream",
     "text": [
      "221lines [00:00, 8018.94lines/s]\n",
      "221lines [00:00, 6533.05lines/s]\n",
      "2004lines [00:00, 6826.27lines/s]\n"
     ]
    }
   ],
   "source": [
    "# generate tensor data from the datasets.  These will be optimized for GPU processing\n",
    "ngrams = 1\n",
    "\n",
    "train_csv_path = 'train.csv'\n",
    "\n",
    "vocab = build_vocab_from_iterator(_csv_iterator(train_csv_path, ngrams))\n",
    "\n",
    "train_dataset, train_labels = _create_data_from_iterator(\n",
    "        vocab, _csv_iterator(train_csv_path, ngrams, yield_cls=True), include_unk=True)\n",
    "\n",
    "test_csv_path = 'test.csv'\n",
    "test_dataset, test_labels = _create_data_from_iterator(\n",
    "        vocab, _csv_iterator(test_csv_path, ngrams, yield_cls=True), include_unk=True)"
   ]
  },
  {
   "cell_type": "code",
   "execution_count": 5,
   "metadata": {},
   "outputs": [],
   "source": [
    "# From the PyTorch docs on Text Classification\n",
    "# https://pytorch.org/tutorials/beginner/text_Classifier_ngrams_tutorial.html"
   ]
  },
  {
   "cell_type": "code",
   "execution_count": 6,
   "metadata": {},
   "outputs": [
    {
     "data": {
      "text/plain": [
       "(0,\n",
       " tensor([1225, 2443,   17,  954,  214,   50, 1498, 1323,  893,  191, 3045, 3126,\n",
       "         3464,  954, 1214,    3,  120, 2571,    2,  116,  867,   11,  334, 1795,\n",
       "         3318,  742,  214, 1225,  259, 1749,  133,  893, 1132,   64, 3045, 3126,\n",
       "           21, 2501, 5512, 3464, 1852,  893,  954, 1214,   21,  253, 1932,    4,\n",
       "           29,  989,  979,   26, 1223, 1090,  954, 1214, 1225, 2443,  954,  893,\n",
       "           45, 1420, 4454, 1422,    3,  120,  116, 2443,  893,   26,  954, 1214,\n",
       "          487,   11,   23, 2908,  158,  766, 1305,   17,  115,    2, 1225,   74,\n",
       "          867, 1398,  803, 4192,   81, 6599,  132,  259,   23, 2308, 2019,  141,\n",
       "         1195, 2445, 1798,  483, 1759,  893, 2657, 7029,  333, 4456, 1225, 2578,\n",
       "         3956,   24]))"
      ]
     },
     "execution_count": 6,
     "metadata": {},
     "output_type": "execute_result"
    }
   ],
   "source": [
    "# check the processed tensor data\n",
    "train_dataset[0]"
   ]
  },
  {
   "cell_type": "code",
   "execution_count": 15,
   "metadata": {},
   "outputs": [],
   "source": [
    "# next seven cells based heavily on the PyTorch docs:\n",
    "# # https://pytorch.org/tutorials/beginner/text_Classifier_ngrams_tutorial.html\n",
    "\n",
    "import torch.nn as nn\n",
    "import torch.nn.functional as F\n",
    "class TextClassifier(nn.Module):\n",
    "    def __init__(self, vocab_size, embed_dim, num_class):\n",
    "        super().__init__()\n",
    "        self.embedding = nn.EmbeddingBag(vocab_size, embed_dim, sparse=True)\n",
    "        self.fc = nn.Linear(embed_dim, num_class)\n",
    "        self.init_weights()\n",
    "\n",
    "    def init_weights(self):\n",
    "        initrange = 0.5\n",
    "        self.embedding.weight.data.uniform_(-initrange, initrange)\n",
    "        self.fc.weight.data.uniform_(-initrange, initrange)\n",
    "        self.fc.bias.data.zero_()\n",
    "\n",
    "    def forward(self, text, offsets):\n",
    "        embedded = self.embedding(text, offsets)\n",
    "        return self.fc(embedded)"
   ]
  },
  {
   "cell_type": "code",
   "execution_count": 16,
   "metadata": {},
   "outputs": [
    {
     "name": "stdout",
     "output_type": "stream",
     "text": [
      "cuda\n"
     ]
    }
   ],
   "source": [
    "BATCH_SIZE = 4\n",
    "\n",
    "device = torch.device(\"cuda\" if torch.cuda.is_available() else \"cpu\")\n",
    "print(device)\n",
    "\n",
    "#VOCAB_SIZE = len(train_dataset.get_vocab())\n",
    "VOCAB_SIZE = len(vocab)\n",
    "EMBED_DIM = 100 # ensure this matches pre-trained embeds if using them\n",
    "#NUN_CLASS = len(train_dataset.get_labels())\n",
    "NUN_CLASS = len(set([train_dataset[i][0] for i in range(len(train_dataset))]))"
   ]
  },
  {
   "cell_type": "code",
   "execution_count": 17,
   "metadata": {},
   "outputs": [],
   "source": [
    "# train embeddings from scratch OR use pre-trained embeddings\n",
    "# from scratch\n",
    "model = TextClassifier(VOCAB_SIZE, EMBED_DIM, NUN_CLASS).to(device)"
   ]
  },
  {
   "cell_type": "code",
   "execution_count": 18,
   "metadata": {},
   "outputs": [],
   "source": [
    "def generate_batch(batch):\n",
    "    label = torch.tensor([entry[0] for entry in batch])\n",
    "    text = [entry[1] for entry in batch]\n",
    "    offsets = [0] + [len(entry) for entry in text]\n",
    "    # torch.Tensor.cumsum returns the cumulative sum\n",
    "    # of elements in the dimension dim.\n",
    "    # torch.Tensor([1.0, 2.0, 3.0]).cumsum(dim=0)\n",
    "\n",
    "    offsets = torch.tensor(offsets[:-1]).cumsum(dim=0)\n",
    "    text = torch.cat(text)\n",
    "    return text, offsets, label"
   ]
  },
  {
   "cell_type": "code",
   "execution_count": 19,
   "metadata": {},
   "outputs": [],
   "source": [
    "from torch.utils.data import DataLoader\n",
    "\n",
    "def train_func(sub_train_):\n",
    "\n",
    "    # Train the model\n",
    "    train_loss = 0\n",
    "    train_acc = 0\n",
    "    data = DataLoader(sub_train_, batch_size=BATCH_SIZE, shuffle=True,\n",
    "                      collate_fn=generate_batch)\n",
    "    for i, (text, offsets, cls) in enumerate(data):\n",
    "        optimizer.zero_grad()\n",
    "        text, offsets, cls = text.to(device), offsets.to(device), cls.to(device)\n",
    "        output = model(text, offsets)\n",
    "        loss = criterion(output, cls)\n",
    "        train_loss += loss.item()\n",
    "        loss.backward()\n",
    "        optimizer.step()\n",
    "        train_acc += (output.argmax(1) == cls).sum().item()\n",
    "\n",
    "    # Adjust the learning rate\n",
    "    scheduler.step()\n",
    "\n",
    "    return train_loss / len(sub_train_), train_acc / len(sub_train_)\n",
    "\n",
    "def test(data_):\n",
    "    loss = 0\n",
    "    acc = 0\n",
    "    data = DataLoader(data_, batch_size=BATCH_SIZE, collate_fn=generate_batch)\n",
    "    for text, offsets, cls in data:\n",
    "        text, offsets, cls = text.to(device), offsets.to(device), cls.to(device)\n",
    "        with torch.no_grad():\n",
    "            output = model(text, offsets)\n",
    "            loss = criterion(output, cls)\n",
    "            loss += loss.item()\n",
    "            acc += (output.argmax(1) == cls).sum().item()\n",
    "\n",
    "    return loss / len(data_), acc / len(data_)"
   ]
  },
  {
   "cell_type": "code",
   "execution_count": 20,
   "metadata": {},
   "outputs": [
    {
     "name": "stdout",
     "output_type": "stream",
     "text": [
      "Epoch: 1  | time in 0 minutes, 0 seconds\n",
      "\tLoss: 0.4626(train)\t|\tAcc: 31.6%(train)\n",
      "\tLoss: 0.3761(valid)\t|\tAcc: 8.3%(valid)\n",
      "Epoch: 2  | time in 0 minutes, 0 seconds\n",
      "\tLoss: 0.1692(train)\t|\tAcc: 79.9%(train)\n",
      "\tLoss: 0.1450(valid)\t|\tAcc: 66.7%(valid)\n",
      "Epoch: 3  | time in 0 minutes, 0 seconds\n",
      "\tLoss: 0.0375(train)\t|\tAcc: 99.5%(train)\n",
      "\tLoss: 0.1230(valid)\t|\tAcc: 91.7%(valid)\n",
      "Epoch: 4  | time in 0 minutes, 0 seconds\n",
      "\tLoss: 0.0158(train)\t|\tAcc: 100.0%(train)\n",
      "\tLoss: 0.1268(valid)\t|\tAcc: 83.3%(valid)\n",
      "Epoch: 5  | time in 0 minutes, 0 seconds\n",
      "\tLoss: 0.0097(train)\t|\tAcc: 100.0%(train)\n",
      "\tLoss: 0.1257(valid)\t|\tAcc: 91.7%(valid)\n",
      "Epoch: 6  | time in 0 minutes, 0 seconds\n",
      "\tLoss: 0.0063(train)\t|\tAcc: 100.0%(train)\n",
      "\tLoss: 0.1343(valid)\t|\tAcc: 91.7%(valid)\n",
      "Epoch: 7  | time in 0 minutes, 0 seconds\n",
      "\tLoss: 0.0052(train)\t|\tAcc: 100.0%(train)\n",
      "\tLoss: 0.1324(valid)\t|\tAcc: 91.7%(valid)\n",
      "Epoch: 8  | time in 0 minutes, 0 seconds\n",
      "\tLoss: 0.0044(train)\t|\tAcc: 100.0%(train)\n",
      "\tLoss: 0.1342(valid)\t|\tAcc: 91.7%(valid)\n",
      "Epoch: 9  | time in 0 minutes, 0 seconds\n",
      "\tLoss: 0.0038(train)\t|\tAcc: 100.0%(train)\n",
      "\tLoss: 0.1361(valid)\t|\tAcc: 91.7%(valid)\n",
      "Epoch: 10  | time in 0 minutes, 0 seconds\n",
      "\tLoss: 0.0035(train)\t|\tAcc: 100.0%(train)\n",
      "\tLoss: 0.1362(valid)\t|\tAcc: 91.7%(valid)\n"
     ]
    }
   ],
   "source": [
    "import time\n",
    "from torch.utils.data.dataset import random_split\n",
    "N_EPOCHS = 10\n",
    "min_valid_loss = float('inf')\n",
    "\n",
    "criterion = torch.nn.CrossEntropyLoss().to(device)\n",
    "optimizer = torch.optim.SGD(model.parameters(), lr=5.0)\n",
    "scheduler = torch.optim.lr_scheduler.StepLR(optimizer, 1, gamma=0.9)\n",
    "\n",
    "train_len = int(len(train_dataset) * 0.95)\n",
    "sub_train_, sub_valid_ = \\\n",
    "    random_split(train_dataset, [train_len, len(train_dataset) - train_len])\n",
    "\n",
    "for epoch in range(N_EPOCHS):\n",
    "\n",
    "    start_time = time.time()\n",
    "    train_loss, train_acc = train_func(sub_train_)\n",
    "    valid_loss, valid_acc = test(sub_valid_)\n",
    "\n",
    "    secs = int(time.time() - start_time)\n",
    "    mins = secs / 60\n",
    "    secs = secs % 60\n",
    "\n",
    "    print('Epoch: %d' %(epoch + 1), \" | time in %d minutes, %d seconds\" %(mins, secs))\n",
    "    print(f'\\tLoss: {train_loss:.4f}(train)\\t|\\tAcc: {train_acc * 100:.1f}%(train)')\n",
    "    print(f'\\tLoss: {valid_loss:.4f}(valid)\\t|\\tAcc: {valid_acc * 100:.1f}%(valid)')"
   ]
  },
  {
   "cell_type": "code",
   "execution_count": 21,
   "metadata": {},
   "outputs": [
    {
     "name": "stdout",
     "output_type": "stream",
     "text": [
      "Checking the results of test dataset...\n",
      "\tLoss: 0.0003(test)\t|\tAcc: 89.4%(test)\n"
     ]
    }
   ],
   "source": [
    "print('Checking the results of test dataset...')\n",
    "test_loss, test_acc = test(test_dataset)\n",
    "print(f'\\tLoss: {test_loss:.4f}(test)\\t|\\tAcc: {test_acc * 100:.1f}%(test)')"
   ]
  },
  {
   "cell_type": "code",
   "execution_count": 22,
   "metadata": {},
   "outputs": [
    {
     "name": "stdout",
     "output_type": "stream",
     "text": [
      "This is Tech news\n"
     ]
    }
   ],
   "source": [
    "import re\n",
    "from torchtext.data.utils import ngrams_iterator\n",
    "from torchtext.data.utils import get_tokenizer\n",
    "\n",
    "news_label = {1 : \"Business\",\n",
    "                 2 : \"Entertainment\",\n",
    "                 3 : \"Politics\",\n",
    "                 4 : \"Sports\",\n",
    "                 5 : \"Tech\"}\n",
    "\n",
    "def predict(text, model, vocab, ngrams):\n",
    "    tokenizer = get_tokenizer(\"basic_english\")\n",
    "    with torch.no_grad():\n",
    "        text = torch.tensor([vocab[token]\n",
    "                            for token in ngrams_iterator(tokenizer(text), ngrams)])\n",
    "        output = model(text, torch.tensor([0]))\n",
    "        # return the label - must adjust index returned by argmax by one\n",
    "        return output.argmax(1).item() + 1\n",
    "\n",
    "ex_text_str = \"MEMPHIS, Tenn. – Four days ago, Jon Rahm was \\\n",
    "    enduring the season’s worst weather conditions on Sunday at The \\\n",
    "    Open on his way to a closing 75 at Royal Portrush, which \\\n",
    "    considering the wind and the rain was a respectable showing. \\\n",
    "    Thursday’s first round at the WGC-FedEx St. Jude Invitational \\\n",
    "    was another story. With temperatures in the mid-80s and hardly any \\\n",
    "    wind, the Spaniard was 13 strokes better in a flawless round. \\\n",
    "    Thanks to his best putting performance on the PGA Tour, Rahm \\\n",
    "    finished with an 8-under 62 for a three-stroke lead, which \\\n",
    "    was even more impressive considering he’d never played the \\\n",
    "    front nine at TPC Southwind.\"\n",
    "\n",
    "#vocab = train_dataset.get_vocab()\n",
    "# put the model on the cpu for predictions\n",
    "model = model.to(\"cpu\")\n",
    "\n",
    "print(\"This is %s news\" %news_label[predict(ex_text_str, model, vocab, ngrams)])"
   ]
  },
  {
   "cell_type": "markdown",
   "metadata": {},
   "source": [
    "## Check model performance on test set"
   ]
  },
  {
   "cell_type": "code",
   "execution_count": 23,
   "metadata": {},
   "outputs": [],
   "source": [
    "# run on test set\n",
    "y_preds = [predict(text, model, vocab, ngrams) for text in df_test.titletext]\n",
    "test_y = df_test.label"
   ]
  },
  {
   "cell_type": "code",
   "execution_count": 24,
   "metadata": {},
   "outputs": [
    {
     "data": {
      "text/plain": [
       "<matplotlib.axes._subplots.AxesSubplot at 0x7f339017b070>"
      ]
     },
     "execution_count": 24,
     "metadata": {},
     "output_type": "execute_result"
    },
    {
     "data": {
      "image/png": "[encoded data removed]",
      "text/plain": [
       "<Figure size 864x864 with 2 Axes>"
      ]
     },
     "metadata": {
      "needs_background": "light"
     },
     "output_type": "display_data"
    }
   ],
   "source": [
    "# Check confusion matrix on test set\n",
    "import scikitplot as skplt\n",
    "y_true = [news_label[x] for x in test_y]\n",
    "y_pred = [news_label[x] for x in y_preds]\n",
    "skplt.metrics.plot_confusion_matrix(\n",
    "    y_true, \n",
    "    y_pred,\n",
    "    figsize=(12,12),\n",
    "    x_tick_rotation=90)"
   ]
  },
  {
   "cell_type": "code",
   "execution_count": 25,
   "metadata": {},
   "outputs": [
    {
     "data": {
      "image/png": "[encoded data removed]",
      "text/plain": [
       "<Figure size 864x864 with 2 Axes>"
      ]
     },
     "metadata": {
      "needs_background": "light"
     },
     "output_type": "display_data"
    }
   ],
   "source": [
    "# Check normalized confusion matrix on test set\n",
    "# The precision metric is the diagonal element / sum of the column\n",
    "# The recall metric is the diagonal element value\n",
    "import scikitplot as skplt\n",
    "import matplotlib.pyplot as plt\n",
    "y_true = [news_label[x] for x in test_y]\n",
    "y_pred = [news_label[x] for x in y_preds]\n",
    "skplt.metrics.plot_confusion_matrix(\n",
    "    y_true, \n",
    "    y_pred,\n",
    "    normalize = True,\n",
    "    figsize=(12,12),\n",
    "    x_tick_rotation=90)\n",
    "plt.savefig('norm_conf_mx.png')"
   ]
  },
  {
   "cell_type": "code",
   "execution_count": 28,
   "metadata": {},
   "outputs": [
    {
     "data": {
      "text/html": [
       "<div>\n",
       "<style scoped>\n",
       "    .dataframe tbody tr th:only-of-type {\n",
       "        vertical-align: middle;\n",
       "    }\n",
       "\n",
       "    .dataframe tbody tr th {\n",
       "        vertical-align: top;\n",
       "    }\n",
       "\n",
       "    .dataframe thead th {\n",
       "        text-align: right;\n",
       "    }\n",
       "</style>\n",
       "<table border=\"1\" class=\"dataframe\">\n",
       "  <thead>\n",
       "    <tr style=\"text-align: right;\">\n",
       "      <th></th>\n",
       "      <th>Class</th>\n",
       "      <th>Recall</th>\n",
       "      <th>Precision</th>\n",
       "      <th>F1 Score</th>\n",
       "    </tr>\n",
       "  </thead>\n",
       "  <tbody>\n",
       "    <tr>\n",
       "      <th>0</th>\n",
       "      <td>Business</td>\n",
       "      <td>0.891068</td>\n",
       "      <td>0.904867</td>\n",
       "      <td>0.897914</td>\n",
       "    </tr>\n",
       "    <tr>\n",
       "      <th>1</th>\n",
       "      <td>Entertainment</td>\n",
       "      <td>0.804598</td>\n",
       "      <td>0.942761</td>\n",
       "      <td>0.868217</td>\n",
       "    </tr>\n",
       "    <tr>\n",
       "      <th>2</th>\n",
       "      <td>Politics</td>\n",
       "      <td>0.875000</td>\n",
       "      <td>0.891599</td>\n",
       "      <td>0.883221</td>\n",
       "    </tr>\n",
       "    <tr>\n",
       "      <th>3</th>\n",
       "      <td>Sports</td>\n",
       "      <td>0.976087</td>\n",
       "      <td>0.921971</td>\n",
       "      <td>0.948258</td>\n",
       "    </tr>\n",
       "    <tr>\n",
       "      <th>4</th>\n",
       "      <td>Tech</td>\n",
       "      <td>0.897507</td>\n",
       "      <td>0.812030</td>\n",
       "      <td>0.852632</td>\n",
       "    </tr>\n",
       "  </tbody>\n",
       "</table>\n",
       "</div>"
      ],
      "text/plain": [
       "           Class    Recall  Precision  F1 Score\n",
       "0       Business  0.891068   0.904867  0.897914\n",
       "1  Entertainment  0.804598   0.942761  0.868217\n",
       "2       Politics  0.875000   0.891599  0.883221\n",
       "3         Sports  0.976087   0.921971  0.948258\n",
       "4           Tech  0.897507   0.812030  0.852632"
      ]
     },
     "metadata": {},
     "output_type": "display_data"
    }
   ],
   "source": [
    "import sklearn\n",
    "from sklearn.metrics import recall_score, precision_score, f1_score\n",
    "\n",
    "df_met = pd.DataFrame({'Class' : [\"Business\", \"Entertainment\", \"Politics\",  \"Sports\", \"Tech\"],\n",
    "             'Recall' : sklearn.metrics.recall_score(y_true, y_pred, average = None),\n",
    "             'Precision' : sklearn.metrics.precision_score(y_true, y_pred, average = None),\n",
    "             'F1 Score' : sklearn.metrics.f1_score(y_true, y_pred, average = None)})\n",
    "\n",
    "display(df_met)\n",
    "\n",
    "#print(df_met.to_html())"
   ]
  },
  {
   "cell_type": "markdown",
   "metadata": {},
   "source": [
    "### Analysis of model\n",
    "\n",
    "##### General \n",
    "\n",
    "The model trained to an 89% accuracy on the test set, which is high given the small training data set.  This model does not leverage pretrained embeddings, which would lead me to believe it would need a lot of training examples to generalize well to new samples in the test set.  However, this model performed very well on the test set.  The training time of the model was essentially less than a second per epoch, which is extremely fast. \n",
    "\n",
    "##### Performance Metrics \n",
    "\n",
    "The confusion matrix is instructive into the model's performance across the classes.  The normalized confusion matrix shows the recall metric as the diagonal value (true positives / true positives + false negatives).  Precision is not directly shown, but is found by the diagonal element divided by the sum of the column values (true positives / true positives + false positives) and is calculated above. Precision and recall give different information about the model performance. For this use case it seems that f1 score, the harmonic mean of precision and recall, is the most important metric for the model.  \n",
    "\n",
    "Because precision is high and recall is lower for the entertainment class, we can see that the model is under-tagging documents with this label. Therefore, errors for the true-labeled entertainment documents should be examined in more detail. If a class had high recall but suffered from lower precision, the indicates that it was over-tagging articles as being business related. \n",
    "\n",
    "Some classes may be more likely to be confused by the model, in this case business.  This is expected because business inherently requires a business sector, which could include tech or sports or entertainment.  Additionally, politics can legislate to regulate business, providing many sources of confusion for the model. \n",
    "\n",
    "Intuitively, many news articles will touch on more than one topic and there may be articles that are focused evenly on two or more topics.  I can think of many instances in which a business article would contain many references to entertainment or tech.  It is reasonable that the model would confuse these related classes.  We would not expect there to be much confusion between sports, politics, and tech because there is likely little crossover among these topics in the news.  \n",
    "\n",
    "##### Error Analysis\n",
    "\n",
    "Generally, the entertainment class was mislabeled the most.  The highest confused class categories should be explored.  The model made ~10% of its sub-class errors when the model predicted entertainment but the article's true label was tech.\n",
    "\n",
    "This case (predicted = entertainment, true label = tech) is explored below for demonstration..."
   ]
  },
  {
   "cell_type": "code",
   "execution_count": 30,
   "metadata": {},
   "outputs": [
    {
     "name": "stdout",
     "output_type": "stream",
     "text": [
      "[1763, 1876, 1907, 1916, 1976]\n"
     ]
    }
   ],
   "source": [
    "# check some of the testing examples that the model got wrong.\n",
    "# find the index for when the model predicted entertainment but the article was labeled as tech\n",
    "index = 0\n",
    "checks = []\n",
    "for i, j in zip(y_pred, y_true):\n",
    "    if i == 'Entertainment' and j == 'Tech':\n",
    "        checks.append(index)\n",
    "    index += 1\n",
    "\n",
    "print(checks)"
   ]
  },
  {
   "cell_type": "code",
   "execution_count": 31,
   "metadata": {},
   "outputs": [
    {
     "name": "stdout",
     "output_type": "stream",
     "text": [
      "1763    ultimate game award doom 3 scifi shooter doom ...\n",
      "1876    bbc leads interactive bafta wins bbc national ...\n",
      "1907    halflife 2 sweeps bafta awards pc first person...\n",
      "1916    ultimate game award doom 3 scifi shooter doom ...\n",
      "1976    china ripe media explosion asia set drive glob...\n",
      "Name: titletext, dtype: object\n"
     ]
    }
   ],
   "source": [
    "print(df_test.titletext[checks])"
   ]
  },
  {
   "cell_type": "markdown",
   "metadata": {},
   "source": [
    "In the case where the model predicted entertainment but the article was labeled as tech, the errors are understandable.  The articles frequently reference a tech product that the company is producing, but also reference the video game, television show, or movie that is affected by the technology.  The model is clearly keying off of words like game, show, or movie but the article is not directly about these things.  "
   ]
  },
  {
   "cell_type": "markdown",
   "metadata": {},
   "source": [
    "### Save or load the model for future use..."
   ]
  },
  {
   "cell_type": "code",
   "execution_count": 29,
   "metadata": {},
   "outputs": [],
   "source": [
    "# save out the model\n",
    "torch.save(model.state_dict(), 'model_v1_89acc.pt')"
   ]
  },
  {
   "cell_type": "code",
   "execution_count": null,
   "metadata": {},
   "outputs": [],
   "source": [
    "# load a previous model\n",
    "\n",
    "model = TextClassifier()\n",
    "model.load_state_dict(torch.load('model_v1_89acc.pt'))\n",
    "model.eval()"
   ]
  },
  {
   "cell_type": "code",
   "execution_count": null,
   "metadata": {},
   "outputs": [],
   "source": [
    "# load on GPU\n",
    "device = torch.device(\"cuda\")\n",
    "model = TheModelClass(*args, **kwargs)\n",
    "model.load_state_dict(torch.load(PATH, map_location=\"cuda:0\"))  # Choose whatever GPU device number you want\n",
    "model.to(device)\n",
    "# Make sure to call input = input.to(device) on any input tensors that you feed to the model"
   ]
  }
 ],
 "metadata": {
  "kernelspec": {
   "display_name": "Python 3",
   "language": "python",
   "name": "python3"
  },
  "language_info": {
   "codemirror_mode": {
    "name": "ipython",
    "version": 3
   },
   "file_extension": ".py",
   "mimetype": "text/x-python",
   "name": "python",
   "nbconvert_exporter": "python",
   "pygments_lexer": "ipython3",
   "version": "3.8.3"
  }
 },
 "nbformat": 4,
 "nbformat_minor": 4
}
